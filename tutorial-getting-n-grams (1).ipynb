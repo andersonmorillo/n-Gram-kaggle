{
 "cells": [
  {
   "cell_type": "markdown",
   "metadata": {
    "_uuid": "8741067d5d269c94ac1ae91e19184cd608123bbf"
   },
   "source": [
    "### The order words are used in is important\n",
    "\n",
    "The order that words are used in text is not random. In English, for example, you can say \"the red apple\" but not \"apple red the\". The relationships between words in text is very complex. So complex, in fact, that there's an entire field of linguistics devoted to it: syntax. (You can learn more about syntax [here](https://pdfs.semanticscholar.org/ba33/a9656f43a6b7420a180bdeccd5be98fc05eb.pdf), if you're interested.)\n",
    "\n",
    "However, there is a relatively simply way of capturing some of these relationships between words, originally proposed by Warren Weaver. You can capture quite a bit of information by just looking at which words tend to show up next to each other more often. \n",
    "\n",
    "\n",
    "### What are ngrams? \n",
    "\n",
    "The general idea is that you can look at each pair (or triple, set of four, etc.) of words that occur next to each other. In a sufficently-large corpus, you're likely to see \"the red\" and \"red apple\" several times, but less likely to see \"apple red\" and \"red the\". This is useful to know if, for example, you're trying to figure out what someone is more likely to say to help decide between possible output for an automatic speech recognition system.\n",
    "\n",
    "These co-occuring words are known as \"n-grams\", where \"n\" is a number saying how long a string of words you considered. (Unigrams are single words, bigrams are two words, trigrams are three words, 4-grams are four words, 5-grams are five words, etc.)\n",
    "\n",
    "\n",
    "> **Learning goal:** In this tutorial, you'll learn how to find all the n-grams in a corpus & count how often each is used."
   ]
  },
  {
   "cell_type": "code",
   "execution_count": 1,
   "metadata": {
    "_cell_guid": "99e0adf8-2672-438d-9641-66c2fe4651b2",
    "_uuid": "394b7ec02251c51466dba97e843c0d2fd90cd043"
   },
   "outputs": [
    {
     "data": {
      "text/plain": [
       "\"Taxila or Takshasila, on the\\nbanks of the Vitasata was once\\nnuled by King Kalingadutt. He\\nwas a follower of Buddhism.\\nBut in his kingdom there were\\nseveral who advocated the Vedic\\nreligion. The king never forced\\nhis subjects to adopt the Bud-\\ndhist creed. Only when. people\\nvoluntarily approached. him he\\nused to initiate them,\\n\\nAmong those who thus adopted\\nthe Buddhist creed was one rich\\nmerchant called Vitastadutt. But\\nhis son, Ratnadutt, was an ardent\\nbeliever of the Vedic cult. So, he\\nwas always condemning and\\ncursing his father.\\n\\nâ€œYou area sinner. You have\\nstrayed away from the virtuous\\nVedic path and adopted atheist\\ncreeds. Instead of worshipping\\nBrahmans you take to beggar-\\nWorship. This accursed religion\\nis for those who do not bathe\\nproperly, who eat any time of the\\ny, Who lead a life of ease with-\\nout let or hindrance, lounging\\nin the viharas along with loafers\\nof all castes and communities.\\nHow could you take to it?â€\\x9d\\nRatoadutt would ask his father.\\n\\nAnd the father would reply\\nwith a great pain in his heart:\\nâ€œSon, you seem to think that\\nexternal â€˜symbols are the true\\ncreed. Do you believe that real\\nBrahmanism is that which is\\ninherited? To control oneâ€™s emo-\\ntions, 10 practise the virtues of\\nTruth and Ahimsaâ€”that is true\\nBrahmanism. Why do you always \\nabuse and curse this noble creed\\nwhich offers protection to all\\nliving creatures? You should\\ndevelop tolerance and charity.â€\\x9d\\n\\nBut Ratnadutt whose heartwas\\nfull of hatred did not listen to his\\nfather's words. His attitude to his\\nfather grew from bad to worse.\\n\\nOne day Vitastadutt went to\\nthe king and told him all about\\nhis son.\\n\\nThe king said to him, â€œOn\\nsome pretext ot other you bring\\nyour son to me. I shall see\\nwhat can be done with him.â€\\x9d\\n\\nThe very next day Vitastadutt\\ncame to the king accompanied by\\nhis son, Ratnadutt. The king pre-\\ntended to be enraged at the mere\\nsight of Ratnadutt. He shouted\\nto his servants, â€œSeize this traitor\\nand behead him at once.â€\\x9d\\n\\nRatnadutt listened to this and\""
      ]
     },
     "execution_count": 1,
     "metadata": {},
     "output_type": "execute_result"
    }
   ],
   "source": [
    "# load in all the modules we're going to need\n",
    "import nltk, re, string, collections\n",
    "from nltk.util import ngrams # function for making ngrams\n",
    "\n",
    "# this corpus is pretty big, so let's look at just one of the files in it\n",
    "with open(\"D:\\Anderson\\Downloads\\wife.txt\", \"r\", encoding='UTF-8') as file:\n",
    "    text = file.read()\n",
    "    \n",
    "\n",
    "# check to make sure the file read in alright; let's print out the first 2000 characters\n",
    "text[0:2000]"
   ]
  },
  {
   "cell_type": "markdown",
   "metadata": {
    "_uuid": "430143b5f28c56d6fb20747d4e4b1bf7d14f6eb7"
   },
   "source": [
    "Looking at the text, you can see that there's some extra xml markup that we don't really want to analyze (the suff in <pointy brackets>). Let's get rid of that."
   ]
  },
  {
   "cell_type": "code",
   "execution_count": 2,
   "metadata": {
    "_uuid": "60a4f934a550fe8d033168a96e2337f3ceca4eaa",
    "scrolled": true
   },
   "outputs": [
    {
     "data": {
      "text/plain": [
       "'Taxila or Takshasila on the banks of the Vitasata was once nuled by King Kalingadutt He was a follower of Buddhism But in his kingdom there were several who advocated the Vedic religion The king never forced his subjects to adopt the Bud dhist creed Only when people voluntarily approached him he used to initiate them  Among those who thus adopted the Buddhist creed was one rich merchant called Vitastadutt But his son Ratnadutt was an ardent believer of the Vedic cult So he was always condemning and cursing his father  â€œYou area sinner You have strayed away from the virtuous Vedic path and adopted atheist creeds Instead of worshipping Brahmans you take to beggar Worship This accursed religion is for those who do not bathe properly who eat any time of the y Who lead a life of ease with out let or hindrance lounging in the viharas along with loafers of all castes and communities How could you take to itâ€\\x9d Ratoadutt would ask his father  And the father would reply with a great pain in his heart â€œSon you seem to think that external â€˜symbols are the true creed Do you believe that real Brahmanism is that which is inherited To control oneâ€™s emo tions 10 practise the virtues of Truth and Ahimsaâ€”that is true Brahmanism Why do you always  abuse and curse this noble creed which offers protection to all living creatures You should develop tolerance and charityâ€\\x9d  But Ratnadutt whose heartwas full of hatred did not listen to his fathers words His attitude to his father grew from bad to worse  One day Vitastadutt went to the king and told him all about his son  The king said to him â€œOn some pretext ot other you bring your son to me I shall see what can be done with himâ€\\x9d  The very next day Vitastadutt came to the king accompanied by his son Ratnadutt The king pre tended to be enraged at the mere sight of Ratnadutt He shouted to his servants â€œSeize this traitor and behead him at onceâ€\\x9d  Ratnadutt listened to this and shivered with fear and dismay  His father plead'"
      ]
     },
     "execution_count": 2,
     "metadata": {},
     "output_type": "execute_result"
    }
   ],
   "source": [
    "# let's do some preprocessing. We don't care about the XML notation, new lines \n",
    "# or punctuation marks other than periods. (We'll consider the end of the sentence\n",
    "# a \"word\") We also don't want to consider capitalization. \n",
    "\n",
    "# get rid of all the XML markup\n",
    "text = re.sub('<.*>','',text)\n",
    "\n",
    "#cambio get rid of /n\n",
    "text = re.sub('\\n',' ',text)\n",
    "\n",
    "# get rid of the \"ENDOFARTICLE.\" text\n",
    "text = re.sub('ENDOFARTICLE.','',text)\n",
    "\n",
    "# get rid of punctuation (except periods!)\n",
    "punctuationNoPeriod = \"[\" + re.sub(\"\\.\",\"\",string.punctuation) + \"]\"\n",
    "text = re.sub(punctuationNoPeriod, \"\", text)\n",
    "\n",
    "# make sure it looks ok\n",
    "text[0:2000]"
   ]
  },
  {
   "cell_type": "markdown",
   "metadata": {
    "_uuid": "28d2b6735cde4eb44e95a47aea2016228e02e5f8"
   },
   "source": [
    "Ok, now onto making the n-grams! The first thing we want to do is \"tokenize\", or break the  text into indvidual words (you can find more information on tokenization [here](https://www.kaggle.com/rtatman/tokenization-tutorial))."
   ]
  },
  {
   "cell_type": "code",
   "execution_count": 3,
   "metadata": {
    "_uuid": "92145cdfb644377865c25c943f07449c16792cfe",
    "scrolled": false
   },
   "outputs": [],
   "source": [
    "# first get individual words\n",
    "tokenized = text.split()\n",
    "\n",
    "# get list of all the trigrams\n",
    "esGrams = ngrams(tokenized,1)\n",
    "\n",
    "# and get a list of all the bi-grams\n",
    "esBigrams = ngrams(tokenized, 2)\n",
    "\n",
    "# get list of all the trigrams\n",
    "esTrigrams = ngrams(tokenized,3)\n",
    "\n",
    "\n",
    "# If you like, you can uncomment the next like to take a look at \n",
    "# the first ten to make sure they look ok. Please note that doing so \n",
    "# will consume the generator & will break the next block of code, so you'll\n",
    "# need to re-comment it and run this block again to get it to work.\n",
    "# list(esBigrams)[:10]"
   ]
  },
  {
   "cell_type": "markdown",
   "metadata": {
    "_uuid": "a4990722239e09596e6eb63223bcd0d06cb284d9"
   },
   "source": [
    "Yay, we've got our n-grams! Just a list of all the bigrams in a text isn't that useful, though. Let's collapse it a little bit & get a count of how frequently we see each bigram in our corpus. "
   ]
  },
  {
   "cell_type": "code",
   "execution_count": 4,
   "metadata": {
    "_uuid": "a998670747c5c38314c95d517b3896122e999485",
    "scrolled": false
   },
   "outputs": [
    {
     "data": {
      "text/plain": [
       "[(('to', 'the'), 20),\n",
       " (('the', 'king'), 16),\n",
       " (('of', 'the'), 14),\n",
       " (('the', 'princess'), 12),\n",
       " (('he', 'was'), 10),\n",
       " (('on', 'the'), 8),\n",
       " (('away', 'from'), 7),\n",
       " (('in', 'the'), 7),\n",
       " (('The', 'princess'), 7),\n",
       " (('The', 'king'), 6),\n",
       " (('Pravara', 'was'), 6),\n",
       " (('him', 'to'), 6),\n",
       " (('of', 'them'), 6),\n",
       " (('for', 'the'), 6),\n",
       " (('was', 'a'), 5),\n",
       " (('his', 'father'), 5),\n",
       " (('from', 'the'), 5),\n",
       " (('to', 'be'), 5),\n",
       " (('at', 'the'), 5),\n",
       " (('the', 'city'), 5),\n",
       " (('wanted', 'to'), 5),\n",
       " (('ministers', 'son'), 5),\n",
       " (('that', 'he'), 5),\n",
       " (('the', 'ministers'), 5),\n",
       " (('one', 'of'), 5),\n",
       " (('the', 'old'), 5),\n",
       " (('food', 'and'), 5),\n",
       " (('to', 'his'), 4),\n",
       " (('One', 'day'), 4),\n",
       " (('to', 'him'), 4)]"
      ]
     },
     "execution_count": 4,
     "metadata": {},
     "output_type": "execute_result"
    }
   ],
   "source": [
    "# get the frequency of each bigram in our corpus\n",
    "esBigramFreq = collections.Counter(esBigrams)\n",
    "\n",
    "# what are the ten most popular ngrams in this Spanish corpus?\n",
    "esBigramFreq.most_common(30)"
   ]
  },
  {
   "cell_type": "code",
   "execution_count": 5,
   "metadata": {},
   "outputs": [
    {
     "data": {
      "text/plain": [
       "[(('to', 'the', 'king'), 5),\n",
       " (('the', 'city', 'wall'), 4),\n",
       " (('run', 'away', 'from'), 4),\n",
       " (('The', 'ministers', 'son'), 4),\n",
       " (('ministers', 'son', 'was'), 4),\n",
       " (('pre', 'tended', 'to'), 3),\n",
       " (('and', 'lay', 'down'), 3),\n",
       " (('away', 'from', 'home'), 3),\n",
       " (('a', 'couple', 'of'), 3),\n",
       " (('one', 'of', 'them'), 3),\n",
       " (('the', 'old', 'lady'), 3),\n",
       " (('to', 'the', 'sea'), 3),\n",
       " (('his', 'son', 'Ratnadutt'), 2),\n",
       " (('you', 'take', 'to'), 2),\n",
       " (('went', 'to', 'the'), 2),\n",
       " (('came', 'to', 'the'), 2),\n",
       " (('the', 'In', 'Kashmir'), 2),\n",
       " (('In', 'Kashmir', 'there'), 2),\n",
       " (('Kashmir', 'there', 'was'), 2),\n",
       " (('there', 'was', 'once'), 2)]"
      ]
     },
     "execution_count": 5,
     "metadata": {},
     "output_type": "execute_result"
    }
   ],
   "source": [
    "esTrigramFreq = collections.Counter(esTrigrams)\n",
    "\n",
    "esTrigramFreq.most_common(20)"
   ]
  },
  {
   "cell_type": "code",
   "execution_count": 6,
   "metadata": {},
   "outputs": [
    {
     "data": {
      "text/plain": [
       "[(('the',), 168),\n",
       " (('to',), 99),\n",
       " (('and',), 83),\n",
       " (('was',), 64),\n",
       " (('a',), 59),\n",
       " (('of',), 56),\n",
       " (('his',), 34),\n",
       " (('him',), 34),\n",
       " (('he',), 32),\n",
       " (('her',), 30),\n",
       " (('The',), 28),\n",
       " (('that',), 28),\n",
       " (('Pravara',), 28),\n",
       " (('in',), 25),\n",
       " (('king',), 24),\n",
       " (('with',), 22),\n",
       " (('princess',), 21),\n",
       " (('He',), 19),\n",
       " (('for',), 19),\n",
       " (('one',), 17)]"
      ]
     },
     "execution_count": 6,
     "metadata": {},
     "output_type": "execute_result"
    }
   ],
   "source": [
    "esGramFreq = collections.Counter(esGrams)\n",
    "\n",
    "esGramFreq.most_common(20)"
   ]
  },
  {
   "cell_type": "markdown",
   "metadata": {
    "_uuid": "4133a80b9229a4f829b5174f91492bb63f64f64c"
   },
   "source": [
    "I'm not a fluent Spanish speaker, but those do look like some reasonable very frequent two-word phrases in Spanish.\n",
    "\n",
    "And that's all there is to it! Here are some exercises to help you try it out yourself.\n",
    "\n",
    "\n",
    "### Your turn!\n",
    "\n",
    "1. Find the most frequent n-grams in another file in this corpus. You can find the other files by entering \"../input/spanish_corpus/\" in a code chunk and then hitting the Tab key. All of the files will be listed in a drop-down menu. Are the most frequent bigrams the same as they were in this file?\n",
    "2. Instead of bigrams (two word phrases), can you find trigrams (three words)?\n",
    "3. Find the most frequent ngrams in another corpus. You can find some [here](https://www.kaggle.com/datasets?sortBy=relevance&group=featured&search=corpus) to start you out."
   ]
  }
 ],
 "metadata": {
  "kernelspec": {
   "display_name": "Python 3 (ipykernel)",
   "language": "python",
   "name": "python3"
  },
  "language_info": {
   "codemirror_mode": {
    "name": "ipython",
    "version": 3
   },
   "file_extension": ".py",
   "mimetype": "text/x-python",
   "name": "python",
   "nbconvert_exporter": "python",
   "pygments_lexer": "ipython3",
   "version": "3.9.7"
  }
 },
 "nbformat": 4,
 "nbformat_minor": 1
}
